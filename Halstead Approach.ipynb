{
 "cells": [
  {
   "cell_type": "code",
   "execution_count": 2,
   "metadata": {},
   "outputs": [],
   "source": [
    "import numpy as np # linear algebra\n",
    "import pandas as pd # data processing, CSV file I/O (e.g. pd.read_csv)\n",
    "import seaborn as sns\n",
    "import matplotlib.pyplot as plt\n",
    "import re"
   ]
  },
  {
   "cell_type": "code",
   "execution_count": 16,
   "metadata": {},
   "outputs": [],
   "source": [
    "def check_slash_comment_line(string):\n",
    "    if \"//\" in string:\n",
    "        return True\n",
    "    else:\n",
    "        return False \n",
    "def check_star_comment_line(string):\n",
    "     if(string.startswith(\"/*\")):\n",
    "        return True\n",
    "     else:\n",
    "        return False\n",
    "def check_class_declaration_statement(string):\n",
    "#     print(string)\n",
    "    if string.split()[0] in access_modifier and string.split()[1] in class_keyword:\n",
    "           return True\n",
    "    elif string.split()[0] in class_keyword:\n",
    "        return True\n",
    "    else:\n",
    "        return False \n",
    "def check_primitive_variable_declaration_statement(string):\n",
    "    if string.split()[0] in access_modifier and string.split()[1] in primitive_keyword:\n",
    "           return True\n",
    "    elif string.split()[0] in primitive_keyword:\n",
    "        return True\n",
    "    else:\n",
    "        return False\n",
    "def check_object_variable_declaration_statement(string):\n",
    "    matches = [\"new\",\"=\"]\n",
    "    if string.split()[0] in access_modifier and len(string.split())<=4:\n",
    "        return True\n",
    "    elif all(x in string for x in matches):\n",
    "        return True\n",
    "    else:\n",
    "        return False  \n",
    "def check_import_statement(string):\n",
    "     if string.startswith(\"import\"):\n",
    "        return True\n",
    "     else:\n",
    "        return False\n",
    "def check_decision_node(string):\n",
    "     if string.startswith(conditional_loop_keyword):\n",
    "        return True\n",
    "     else:\n",
    "        return False   \n",
    "def check_inheritance_statement(string):\n",
    "     if \"extends\" in string:\n",
    "        return True\n",
    "     else:\n",
    "        return False  \n",
    "def check_implements_statement(string):\n",
    "     if \"implements\" in string:\n",
    "        return True\n",
    "     else:\n",
    "        return False  \n",
    "def check_functions(string):\n",
    "    brackets = [\"(\", \")\"]\n",
    "    variable_symbols=['=','new']\n",
    "    if string.split()[0] in access_modifier and all(x in string for x in brackets) and all(x not in string for x in variable_symbols):\n",
    "        return True\n",
    "    else:\n",
    "        return False\n",
    "def check_override_method(string):\n",
    "      if \"@Override\" in string:\n",
    "        return True\n",
    "      else:\n",
    "        return False  "
   ]
  },
  {
   "cell_type": "code",
   "execution_count": 29,
   "metadata": {},
   "outputs": [],
   "source": [
    "access_modifier=(\"public\",\"private\",\"protected\")\n",
    "class_keyword=(\"class\",\"abstract class\",\"interface\")\n",
    "primitive_keyword=(\"int\", \"byte\", \"short\", \"long\", \"float\", \"double\", \"boolean\",\"char\",\"String\")\n",
    "conditional_loop_keyword=('if',\"else if\",\"for\",\"while\")\n",
    "# declaration=(\"public class\", \"private class\", \"class\", \"protected abstract class\", \"private abstract class\", \"public abstract class\",\"abstract class\",\"public interfece\",\"inteface\")"
   ]
  },
  {
   "cell_type": "code",
   "execution_count": 35,
   "metadata": {},
   "outputs": [],
   "source": [
    "def variable_name(string):\n",
    "    assignment_var = re.findall(\"\\s(.*?)\\=\", string)\n",
    "    declaration_var= re.findall(\"\\s(.*?)\\;\", string)\n",
    "    if len(assignment_var)>0:\n",
    "        var_name=assignment_var[0]\n",
    "        if len(var_name.split())>0:\n",
    "            var_name=var_name.split()[len(var_name.split())-1]\n",
    "        return var_name\n",
    "    elif len(declaration_var)>0:\n",
    "        var_name=declaration_var[0]\n",
    "        if len(var_name.split())>0:\n",
    "            var_name=var_name.split()[len(var_name.split())-1]\n",
    "        return var_name"
   ]
  },
  {
   "cell_type": "code",
   "execution_count": 69,
   "metadata": {},
   "outputs": [],
   "source": [
    " with open(\"ComputerFactory.java\") as f:\n",
    "        str_list=f.readlines()"
   ]
  },
  {
   "cell_type": "code",
   "execution_count": 70,
   "metadata": {},
   "outputs": [
    {
     "name": "stdout",
     "output_type": "stream",
     "text": [
      "N= 19\n",
      "U= 473\n",
      "V= 168.8282310934485\n"
     ]
    }
   ],
   "source": [
    "i=0\n",
    "comment_line=0\n",
    "blank_line=0\n",
    "primitive_variables=0\n",
    "object_variables=0\n",
    "variables=list()\n",
    "while i< len(str_list):\n",
    "    #Strip statement\n",
    "    line=str_list[i].strip()\n",
    "    if len(line)>0:\n",
    "        #count slash comment line\n",
    "        if check_slash_comment_line(line):\n",
    "            comment_line=comment_line+1\n",
    "\n",
    "        #count_start comment line\n",
    "        elif check_star_comment_line(line):\n",
    "            comment_line=comment_line+1\n",
    "            i=i+1\n",
    "            line=str_list[i].strip()\n",
    "            while \"*/\" not in line:\n",
    "                comment_line=comment_line+1\n",
    "                i=i+1\n",
    "                line=str_list[i].strip()\n",
    "            comment_line=comment_line+1\n",
    "            \n",
    "            \n",
    "        #count primitive variable\n",
    "        elif check_primitive_variable_declaration_statement(line):\n",
    "            primitive_variables=primitive_variables+1\n",
    "            var_name=variable_name(line)\n",
    "            if not (var_name is None) and len(var_name.split())>0:\n",
    "                var_name=re.sub('\\W+','', var_name)\n",
    "                if var_name not in variables:\n",
    "                    variables.append(var_name)\n",
    "#                     print(var_name)\n",
    "\n",
    "        #count object variable\n",
    "        elif check_object_variable_declaration_statement(line):\n",
    "            object_variables=object_variables+1\n",
    "            var_name=variable_name(line)\n",
    "            if not (var_name is None) and len(var_name.split())>0:\n",
    "                var_name=re.sub('\\W+','', var_name)\n",
    "                if var_name not in variables:\n",
    "                    variables.append(var_name)\n",
    "#                     print(var_name)\n",
    "        \n",
    "        \n",
    "        \n",
    "           \n",
    "   \n",
    "    #increment index\n",
    "    i=i+1\n",
    "     \n",
    "a = Counter([y for x in str_list for y in variables if y in x.lower()])\n",
    "df1 = pd.DataFrame({'Variables': list(a.keys()), 'Occurance': list(a.values())})\n",
    "b = Counter([y for x in str_list for y in operators if y in x.lower()])\n",
    "df2 = pd.DataFrame({'Operators': list(b.keys()), 'Occurance': list(b.values())})\n",
    "N=len(df1)+len(df2)\n",
    "U=np.sum(df1['Occurance'])+np.sum(df2['Occurance'])\n",
    "print(\"N=\",N)\n",
    "print(\"U=\",U)\n",
    "H=N*np.log2(U)\n",
    "print(\"V=\",H)"
   ]
  },
  {
   "cell_type": "code",
   "execution_count": 71,
   "metadata": {},
   "outputs": [
    {
     "data": {
      "text/html": [
       "<div>\n",
       "<style scoped>\n",
       "    .dataframe tbody tr th:only-of-type {\n",
       "        vertical-align: middle;\n",
       "    }\n",
       "\n",
       "    .dataframe tbody tr th {\n",
       "        vertical-align: top;\n",
       "    }\n",
       "\n",
       "    .dataframe thead th {\n",
       "        text-align: right;\n",
       "    }\n",
       "</style>\n",
       "<table border=\"1\" class=\"dataframe\">\n",
       "  <thead>\n",
       "    <tr style=\"text-align: right;\">\n",
       "      <th></th>\n",
       "      <th>Variables</th>\n",
       "      <th>Occurance</th>\n",
       "    </tr>\n",
       "  </thead>\n",
       "  <tbody>\n",
       "    <tr>\n",
       "      <th>0</th>\n",
       "      <td>k</td>\n",
       "      <td>15</td>\n",
       "    </tr>\n",
       "    <tr>\n",
       "      <th>1</th>\n",
       "      <td>c</td>\n",
       "      <td>137</td>\n",
       "    </tr>\n",
       "    <tr>\n",
       "      <th>2</th>\n",
       "      <td>f</td>\n",
       "      <td>108</td>\n",
       "    </tr>\n",
       "    <tr>\n",
       "      <th>3</th>\n",
       "      <td>item</td>\n",
       "      <td>22</td>\n",
       "    </tr>\n",
       "    <tr>\n",
       "      <th>4</th>\n",
       "      <td>table</td>\n",
       "      <td>46</td>\n",
       "    </tr>\n",
       "    <tr>\n",
       "      <th>5</th>\n",
       "      <td>lt</td>\n",
       "      <td>14</td>\n",
       "    </tr>\n",
       "    <tr>\n",
       "      <th>6</th>\n",
       "      <td>rows</td>\n",
       "      <td>7</td>\n",
       "    </tr>\n",
       "    <tr>\n",
       "      <th>7</th>\n",
       "      <td>flag</td>\n",
       "      <td>4</td>\n",
       "    </tr>\n",
       "    <tr>\n",
       "      <th>8</th>\n",
       "      <td>jcb</td>\n",
       "      <td>10</td>\n",
       "    </tr>\n",
       "    <tr>\n",
       "      <th>9</th>\n",
       "      <td>srp</td>\n",
       "      <td>10</td>\n",
       "    </tr>\n",
       "    <tr>\n",
       "      <th>10</th>\n",
       "      <td>colms</td>\n",
       "      <td>2</td>\n",
       "    </tr>\n",
       "    <tr>\n",
       "      <th>11</th>\n",
       "      <td>tr</td>\n",
       "      <td>31</td>\n",
       "    </tr>\n",
       "    <tr>\n",
       "      <th>12</th>\n",
       "      <td>str</td>\n",
       "      <td>15</td>\n",
       "    </tr>\n",
       "    <tr>\n",
       "      <th>13</th>\n",
       "      <td>mitem</td>\n",
       "      <td>11</td>\n",
       "    </tr>\n",
       "    <tr>\n",
       "      <th>14</th>\n",
       "      <td>temp</td>\n",
       "      <td>3</td>\n",
       "    </tr>\n",
       "    <tr>\n",
       "      <th>15</th>\n",
       "      <td>t1</td>\n",
       "      <td>6</td>\n",
       "    </tr>\n",
       "  </tbody>\n",
       "</table>\n",
       "</div>"
      ],
      "text/plain": [
       "   Variables  Occurance\n",
       "0          k         15\n",
       "1          c        137\n",
       "2          f        108\n",
       "3       item         22\n",
       "4      table         46\n",
       "5         lt         14\n",
       "6       rows          7\n",
       "7       flag          4\n",
       "8        jcb         10\n",
       "9        srp         10\n",
       "10     colms          2\n",
       "11        tr         31\n",
       "12       str         15\n",
       "13     mitem         11\n",
       "14      temp          3\n",
       "15        t1          6"
      ]
     },
     "execution_count": 71,
     "metadata": {},
     "output_type": "execute_result"
    }
   ],
   "source": [
    "df1"
   ]
  },
  {
   "cell_type": "code",
   "execution_count": null,
   "metadata": {},
   "outputs": [],
   "source": []
  },
  {
   "cell_type": "code",
   "execution_count": 47,
   "metadata": {},
   "outputs": [
    {
     "data": {
      "text/plain": [
       "0"
      ]
     },
     "execution_count": 47,
     "metadata": {},
     "output_type": "execute_result"
    }
   ],
   "source": [
    "str_list.count('table')"
   ]
  },
  {
   "cell_type": "code",
   "execution_count": 48,
   "metadata": {},
   "outputs": [],
   "source": [
    "from collections import Counter"
   ]
  },
  {
   "cell_type": "code",
   "execution_count": 49,
   "metadata": {},
   "outputs": [],
   "source": [
    "a = Counter([y for x in str_list for y in variables if y in x.lower()])"
   ]
  },
  {
   "cell_type": "code",
   "execution_count": 51,
   "metadata": {},
   "outputs": [],
   "source": [
    "df1 = pd.DataFrame({'Variables': list(a.keys()), 'Occurance': list(a.values())})"
   ]
  },
  {
   "cell_type": "code",
   "execution_count": 58,
   "metadata": {},
   "outputs": [
    {
     "data": {
      "text/plain": [
       "16"
      ]
     },
     "execution_count": 58,
     "metadata": {},
     "output_type": "execute_result"
    }
   ],
   "source": []
  },
  {
   "cell_type": "code",
   "execution_count": 53,
   "metadata": {},
   "outputs": [],
   "source": [
    "operators=[\"+\",\"-\",\"%\",\"^\",\"++\",\"--\",\"==\",\"**\",\">>\",\"<<\"]"
   ]
  },
  {
   "cell_type": "code",
   "execution_count": 54,
   "metadata": {},
   "outputs": [],
   "source": [
    "b = Counter([y for x in str_list for y in operators if y in x.lower()])"
   ]
  },
  {
   "cell_type": "code",
   "execution_count": 56,
   "metadata": {},
   "outputs": [],
   "source": [
    "df1 = pd.DataFrame({'Operators': list(b.keys()), 'count': list(b.values())})"
   ]
  },
  {
   "cell_type": "code",
   "execution_count": null,
   "metadata": {},
   "outputs": [],
   "source": [
    "operators"
   ]
  }
 ],
 "metadata": {
  "kernelspec": {
   "display_name": "Python 3",
   "language": "python",
   "name": "python3"
  },
  "language_info": {
   "codemirror_mode": {
    "name": "ipython",
    "version": 3
   },
   "file_extension": ".py",
   "mimetype": "text/x-python",
   "name": "python",
   "nbconvert_exporter": "python",
   "pygments_lexer": "ipython3",
   "version": "3.7.6"
  }
 },
 "nbformat": 4,
 "nbformat_minor": 4
}
